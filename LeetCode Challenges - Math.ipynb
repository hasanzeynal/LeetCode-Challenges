{
 "cells": [
  {
   "cell_type": "markdown",
   "id": "3966f37a",
   "metadata": {},
   "source": [
    "### 2894. Divisible and Non-divisible Sums Difference\n",
    "\n",
    "You are given positive integers n and m.\n",
    "\n",
    "Define two integers as follows:\n",
    "\n",
    "* num1: The sum of all integers in the range [1, n] (both inclusive) that are not divisible by m.\n",
    "* num2: The sum of all integers in the range [1, n] (both inclusive) that are divisible by m.\n",
    "\n",
    "Return the integer num1 - num2."
   ]
  },
  {
   "cell_type": "code",
   "execution_count": 1,
   "id": "c44a764c",
   "metadata": {},
   "outputs": [],
   "source": [
    "n, m = 10, 3"
   ]
  },
  {
   "cell_type": "code",
   "execution_count": 9,
   "id": "ca4f1fd0",
   "metadata": {},
   "outputs": [],
   "source": [
    "class Solution(object):\n",
    "    def differenceOfSums(self, n, m):\n",
    "        \"\"\"\n",
    "        :type n: int\n",
    "        :type m: int\n",
    "        :rtype: int\n",
    "        \"\"\"\n",
    "        output_1 = 0\n",
    "        output_2 = 0\n",
    "        for i in range(1, n+1):\n",
    "            if i % m > 0:\n",
    "                output_1+= i\n",
    "            else:\n",
    "                output_2+= i\n",
    "        return output_1 - output_2\n",
    "        "
   ]
  },
  {
   "cell_type": "markdown",
   "id": "e20e59a7",
   "metadata": {},
   "source": [
    "### 973. K Closest Points to Origin.\n",
    "\n",
    "\n",
    "Given an array of points where points[i] = [xi, yi] represents a point on the X-Y plane and an integer k, return the k closest points to the origin (0, 0).\n",
    "\n",
    "**The distance between two points on the X-Y plane is the Euclidean distance (i.e., √(x1 - x2)2 + (y1 - y2)2).**\n",
    "\n",
    "You may return the answer in any order. The answer is guaranteed to be unique (except for the order that it is in)."
   ]
  },
  {
   "cell_type": "code",
   "execution_count": 34,
   "id": "bc956a28",
   "metadata": {},
   "outputs": [
    {
     "data": {
      "text/plain": [
       "[[-2, 2]]"
      ]
     },
     "execution_count": 34,
     "metadata": {},
     "output_type": "execute_result"
    }
   ],
   "source": [
    "import math\n",
    "\n",
    "points = [[1,3],[-2,2]]\n",
    "k = 1\n",
    "\n",
    "\n",
    "def euclidean_distance_2d(point1, point2):\n",
    "    return math.sqrt((point1[0] - point2[0])**2 + (point1[1] - point2[1])**2)\n",
    "eucldian_distances = dict()\n",
    "for idx, i in enumerate(points):\n",
    "    eucldian_distances[idx] = euclidean_distance_2d(i, (0,0))\n",
    "[points[index] for index in list({k: v for k, v in sorted(eucldian_distances.items(), key=lambda item: item[1])}.keys())][:k]"
   ]
  },
  {
   "cell_type": "code",
   "execution_count": 18,
   "id": "99c80bc0",
   "metadata": {},
   "outputs": [],
   "source": []
  },
  {
   "cell_type": "code",
   "execution_count": null,
   "id": "45493f63",
   "metadata": {},
   "outputs": [],
   "source": []
  },
  {
   "cell_type": "code",
   "execution_count": null,
   "id": "fce11328",
   "metadata": {},
   "outputs": [],
   "source": []
  },
  {
   "cell_type": "code",
   "execution_count": null,
   "id": "439a5ee6",
   "metadata": {},
   "outputs": [],
   "source": []
  },
  {
   "cell_type": "code",
   "execution_count": null,
   "id": "540c2a2e",
   "metadata": {},
   "outputs": [],
   "source": []
  },
  {
   "cell_type": "code",
   "execution_count": null,
   "id": "0d68c7a4",
   "metadata": {},
   "outputs": [],
   "source": []
  }
 ],
 "metadata": {
  "kernelspec": {
   "display_name": "Python 3 (ipykernel)",
   "language": "python",
   "name": "python3"
  },
  "language_info": {
   "codemirror_mode": {
    "name": "ipython",
    "version": 3
   },
   "file_extension": ".py",
   "mimetype": "text/x-python",
   "name": "python",
   "nbconvert_exporter": "python",
   "pygments_lexer": "ipython3",
   "version": "3.9.13"
  }
 },
 "nbformat": 4,
 "nbformat_minor": 5
}
