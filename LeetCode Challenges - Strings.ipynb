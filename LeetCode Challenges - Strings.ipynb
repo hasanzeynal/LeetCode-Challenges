{
 "cells": [
  {
   "cell_type": "code",
   "execution_count": 5,
   "id": "3e09372e",
   "metadata": {},
   "outputs": [],
   "source": [
    "new_list = list()\n",
    "result = 1\n",
    "for i in s:\n",
    "    try:\n",
    "        if i == '-':\n",
    "            continue\n",
    "            result *= -1\n",
    "        int(i)\n",
    "        new_list.append(i)\n",
    "    except:\n",
    "        break\n",
    "int(''.join(new_list)) * result"
   ]
  },
  {
   "cell_type": "markdown",
   "id": "3f1073f5",
   "metadata": {},
   "source": [
    "### 3110. Score of a String\n",
    "\n",
    "You are given a string s. The score of a string is defined as the sum of the absolute difference between the ASCII values of adjacent characters.\n",
    "\n",
    "Return the score of s."
   ]
  },
  {
   "cell_type": "code",
   "execution_count": 15,
   "id": "dbaeed10",
   "metadata": {},
   "outputs": [],
   "source": [
    "class Solution(object):\n",
    "    def scoreOfString(self, s):\n",
    "        \"\"\"\n",
    "        :type s: str\n",
    "        :rtype: int\n",
    "        \"\"\"\n",
    "        score = 0\n",
    "\n",
    "        for idx, symbol in enumerate(s):\n",
    "            if idx == (len(s) - 1):\n",
    "                break\n",
    "            new_score = ord(s[idx]) - ord(s[idx+1])\n",
    "            if new_score < 0:\n",
    "                new_score*= -1\n",
    "            score += new_score\n",
    "        return score"
   ]
  },
  {
   "cell_type": "markdown",
   "id": "aa0801a9",
   "metadata": {},
   "source": [
    "### 2942. Find Words Containing Character\n",
    "\n",
    "You are given a 0-indexed array of strings words and a character x.\n",
    "\n",
    "Return an array of indices representing the words that contain the character x.\n",
    "\n",
    "Note that the returned array may be in any order."
   ]
  },
  {
   "cell_type": "code",
   "execution_count": 16,
   "id": "5e4a6ccf",
   "metadata": {},
   "outputs": [],
   "source": [
    "class Solution(object):\n",
    "    def findWordsContaining(self, words, x):\n",
    "        \"\"\"\n",
    "        :type words: List[str]\n",
    "        :type x: str\n",
    "        :rtype: List[int]\n",
    "        \"\"\"\n",
    "        count = 0\n",
    "        new_list = list()\n",
    "        for idx, word in enumerate(words):\n",
    "            if x in word:\n",
    "                count+= 1\n",
    "                new_list.append(idx)\n",
    "        if count == 0:\n",
    "            return []\n",
    "        else:\n",
    "            return new_list\n",
    "        "
   ]
  },
  {
   "cell_type": "markdown",
   "id": "ee65017a",
   "metadata": {},
   "source": [
    "### 1684. Count the Number of Consistent Strings\n",
    "\n",
    "You are given a string allowed consisting of distinct characters and an array of strings words. A string is consistent if all characters in the string appear in the string allowed.\n",
    "\n",
    "Return the number of consistent strings in the array words."
   ]
  },
  {
   "cell_type": "code",
   "execution_count": 59,
   "id": "be849307",
   "metadata": {},
   "outputs": [
    {
     "data": {
      "text/plain": [
       "2"
      ]
     },
     "execution_count": 59,
     "metadata": {},
     "output_type": "execute_result"
    }
   ],
   "source": [
    "allowed = \"ab\"\n",
    "words = [\"ad\", \"bd\", \"aaab\", \"baa\", \"badab\"]\n",
    "count = 0\n",
    "\n",
    "\n",
    "for word in words:\n",
    "    for i in word:\n",
    "        if i not in allowed :\n",
    "            \n",
    "            count-= 1\n",
    "            break\n",
    "    count += 1\n",
    "    \n",
    "    \n",
    "        \n",
    "count"
   ]
  },
  {
   "cell_type": "markdown",
   "id": "eb5fd375",
   "metadata": {},
   "source": [
    "### 2506. Count Pairs Of Similar Strings\n",
    "\n",
    "You are given a 0-indexed string array words.\n",
    "\n",
    "Two strings are similar if they consist of the same characters.\n",
    "\n",
    "For example, \"abca\" and \"cba\" are similar since both consist of characters 'a', 'b', and 'c'.\n",
    "However, \"abacba\" and \"bcfd\" are not similar since they do not consist of the same characters.\n",
    "Return the number of pairs (i, j) such that 0 <= i < j <= word.length - 1 and the two strings words[i] and words[j] are similar."
   ]
  },
  {
   "cell_type": "code",
   "execution_count": 53,
   "id": "88a61caa",
   "metadata": {},
   "outputs": [],
   "source": [
    "words = [\"aabb\",\"ab\",\"ba\"]"
   ]
  },
  {
   "cell_type": "code",
   "execution_count": 58,
   "id": "4032fc30",
   "metadata": {},
   "outputs": [],
   "source": [
    "class Solution(object):\n",
    "    def similarPairs(self, words):\n",
    "        \"\"\"\n",
    "        :type words: List[str]\n",
    "        :rtype: int\n",
    "        \"\"\"\n",
    "        \n",
    "        import numpy as np\n",
    "        count = 0\n",
    "        new_list = list()\n",
    "\n",
    "        for idx, word in enumerate(words):\n",
    "            new_list.append(list(np.unique(np.array([i for i in word]))))\n",
    "            \n",
    "        for idx, l in enumerate(new_list):\n",
    "            for j in new_list[idx+1:]:\n",
    "                if l == j:\n",
    "                    count+=1\n",
    "        return count"
   ]
  },
  {
   "cell_type": "markdown",
   "id": "1d5138b4",
   "metadata": {},
   "source": [
    "### 3541. Find Most Frequent Vowel and Consonant\n",
    "\n",
    "\n",
    "Your task is to:\n",
    "\n",
    "Find the vowel (one of 'a', 'e', 'i', 'o', or 'u') with the maximum frequency.\n",
    "Find the consonant (all other letters excluding vowels) with the maximum frequency.\n",
    "Return the sum of the two frequencies.\n",
    "\n",
    "Note: If multiple vowels or consonants have the same maximum frequency, you may choose any one of them. If there are no vowels or no consonants in the string, consider their frequency as 0.\n",
    "\n",
    "The frequency of a letter x is the number of times it occurs in the string."
   ]
  },
  {
   "cell_type": "code",
   "execution_count": 93,
   "id": "f54674c9",
   "metadata": {},
   "outputs": [
    {
     "data": {
      "text/plain": [
       "6"
      ]
     },
     "execution_count": 93,
     "metadata": {},
     "output_type": "execute_result"
    }
   ],
   "source": [
    "vowels = ['a', 'e', 'i', 'o', 'u']\n",
    "s = \"successes\"\n",
    "vowels = ['a', 'e', 'i', 'o', 'u']\n",
    "vowel_l, other_l = dict(), dict()\n",
    "\n",
    "for i in list(set(s)):\n",
    "    count = 0\n",
    "    if i in vowels:\n",
    "        for j in s:\n",
    "            if i == j:\n",
    "                count+= 1\n",
    "        vowel_l[i] = count\n",
    "    else:\n",
    "        for j in s:\n",
    "            if i == j:\n",
    "                count+= 1\n",
    "        other_l[i] = count\n",
    "\n",
    "try:\n",
    "    max_1 = list({k: v for k, v in sorted(other_l.items(), key=lambda item: item[1])}.values())[-1]\n",
    "except:\n",
    "    max_1 = 0\n",
    "\n",
    "try:\n",
    "    max_2 = list({k: v for k, v in sorted(vowel_l.items(), key=lambda item: item[1])}.values())[-1]\n",
    "except:\n",
    "    max_2 = 0\n",
    "max_1 + max_2"
   ]
  },
  {
   "cell_type": "code",
   "execution_count": null,
   "id": "28ab4b6b",
   "metadata": {},
   "outputs": [],
   "source": []
  }
 ],
 "metadata": {
  "kernelspec": {
   "display_name": "Python 3 (ipykernel)",
   "language": "python",
   "name": "python3"
  },
  "language_info": {
   "codemirror_mode": {
    "name": "ipython",
    "version": 3
   },
   "file_extension": ".py",
   "mimetype": "text/x-python",
   "name": "python",
   "nbconvert_exporter": "python",
   "pygments_lexer": "ipython3",
   "version": "3.9.13"
  }
 },
 "nbformat": 4,
 "nbformat_minor": 5
}
